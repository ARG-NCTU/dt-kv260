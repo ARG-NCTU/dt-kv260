{
 "cells": [
  {
   "cell_type": "code",
   "execution_count": 1,
   "id": "a55791ed",
   "metadata": {},
   "outputs": [
    {
     "data": {
      "application/javascript": [
       "\n",
       "try {\n",
       "require(['notebook/js/codecell'], function(codecell) {\n",
       "  codecell.CodeCell.options_default.highlight_modes[\n",
       "      'magic_text/x-csrc'] = {'reg':[/^%%microblaze/]};\n",
       "  Jupyter.notebook.events.one('kernel_ready.Kernel', function(){\n",
       "      Jupyter.notebook.get_cells().map(function(cell){\n",
       "          if (cell.cell_type == 'code'){ cell.auto_highlight(); } }) ;\n",
       "  });\n",
       "});\n",
       "} catch (e) {};\n"
      ]
     },
     "metadata": {},
     "output_type": "display_data"
    },
    {
     "data": {
      "application/javascript": [
       "\n",
       "try {\n",
       "require(['notebook/js/codecell'], function(codecell) {\n",
       "  codecell.CodeCell.options_default.highlight_modes[\n",
       "      'magic_text/x-csrc'] = {'reg':[/^%%pybind11/]};\n",
       "  Jupyter.notebook.events.one('kernel_ready.Kernel', function(){\n",
       "      Jupyter.notebook.get_cells().map(function(cell){\n",
       "          if (cell.cell_type == 'code'){ cell.auto_highlight(); } }) ;\n",
       "  });\n",
       "});\n",
       "} catch (e) {};\n"
      ]
     },
     "metadata": {},
     "output_type": "display_data"
    },
    {
     "name": "stdout",
     "output_type": "stream",
     "text": [
      "UART overlay done\n"
     ]
    }
   ],
   "source": [
    "from pynq_dpu import DpuOverlay\n",
    "from uartlite import UartLite\n",
    "overlay = DpuOverlay('dpu_uartlite.bit')\n",
    "uart = UartLite(overlay.axi_uartlite_0)\n",
    "\n",
    "print(\"UART overlay done\")"
   ]
  },
  {
   "cell_type": "code",
   "execution_count": 34,
   "id": "31a1c291",
   "metadata": {},
   "outputs": [
    {
     "data": {
      "text/plain": [
       "9"
      ]
     },
     "execution_count": 34,
     "metadata": {},
     "output_type": "execute_result"
    }
   ],
   "source": [
    "uart.write(\"02551255\\n\")"
   ]
  },
  {
   "cell_type": "code",
   "execution_count": 29,
   "id": "27ee1642",
   "metadata": {},
   "outputs": [
    {
     "data": {
      "text/plain": [
       "9"
      ]
     },
     "execution_count": 29,
     "metadata": {},
     "output_type": "execute_result"
    }
   ],
   "source": [
    "uart.write(\"01270127\\n\")"
   ]
  },
  {
   "cell_type": "code",
   "execution_count": 40,
   "id": "8a315830",
   "metadata": {},
   "outputs": [
    {
     "data": {
      "text/plain": [
       "9"
      ]
     },
     "execution_count": 40,
     "metadata": {},
     "output_type": "execute_result"
    }
   ],
   "source": [
    "uart.write(\"10001000\\n\")"
   ]
  },
  {
   "cell_type": "code",
   "execution_count": 82,
   "id": "47061fda",
   "metadata": {},
   "outputs": [],
   "source": [
    "def cmd_vel_control(linear_x, angular_z):\n",
    "    WHEEL_DIST = 5;\n",
    "    speed_wish_right = (angular_z * WHEEL_DIST)/2 + linear_x\n",
    "    speed_wish_left = linear_x * 2-speed_wish_right\n",
    "    \n",
    "    speed_wish_right = int(255*speed_wish_right)\n",
    "    speed_wish_left = int(255*speed_wish_left)\n",
    "    if speed_wish_right > 255: speed_wish_right = 255\n",
    "    if speed_wish_right < -255: speed_wish_right = -255\n",
    "    if speed_wish_left > 255: speed_wish_left = 255\n",
    "    if speed_wish_left < -255: speed_wish_left = -255\n",
    "    print(\"speed_wish_right, speed_wish_left= \",speed_wish_right, \",\",speed_wish_left)\n",
    "    \n",
    "    \n",
    "    pkg=\"1\" if speed_wish_right>=0 else \"0\"\n",
    "    speed_wish_right = abs(speed_wish_right)\n",
    "    pkg += str(speed_wish_right//100)\n",
    "    pkg += str((speed_wish_right%100)//10)\n",
    "    pkg += str(speed_wish_right%10)\n",
    "    \n",
    "    if speed_wish_left>=0: pkg += \"1\"\n",
    "    else : pkg += \"0\"\n",
    "    speed_wish_left = abs(speed_wish_left)\n",
    "    pkg += str(speed_wish_left//100)\n",
    "    pkg += str((speed_wish_left%100)//10)\n",
    "    pkg += str(speed_wish_left%10)\n",
    "    pkg += \"\\n\"\n",
    "    \n",
    "    print(\"uart pkg= \", pkg)\n",
    "    \n",
    "    uart.write(pkg)"
   ]
  },
  {
   "cell_type": "code",
   "execution_count": 93,
   "id": "9ff98f8a",
   "metadata": {},
   "outputs": [
    {
     "name": "stdout",
     "output_type": "stream",
     "text": [
      "speed_wish_right, speed_wish_left=  0 , 0\n",
      "uart pkg=  10001000\n",
      "\n"
     ]
    }
   ],
   "source": [
    "cmd_vel_control(0, 0)"
   ]
  },
  {
   "cell_type": "code",
   "execution_count": 91,
   "id": "c2fc9673",
   "metadata": {},
   "outputs": [
    {
     "name": "stdout",
     "output_type": "stream",
     "text": [
      "speed_wish_right, speed_wish_left=  127 , 127\n",
      "uart pkg=  11271127\n",
      "\n"
     ]
    }
   ],
   "source": [
    "cmd_vel_control(0.5, 0)"
   ]
  },
  {
   "cell_type": "code",
   "execution_count": 92,
   "id": "7a512b78",
   "metadata": {},
   "outputs": [
    {
     "name": "stdout",
     "output_type": "stream",
     "text": [
      "speed_wish_right, speed_wish_left=  -255 , 255\n",
      "uart pkg=  02551255\n",
      "\n"
     ]
    }
   ],
   "source": [
    "cmd_vel_control(0, -0.5)"
   ]
  },
  {
   "cell_type": "code",
   "execution_count": null,
   "id": "95b97593",
   "metadata": {},
   "outputs": [],
   "source": []
  }
 ],
 "metadata": {
  "kernelspec": {
   "display_name": "Python 3",
   "language": "python",
   "name": "python3"
  },
  "language_info": {
   "codemirror_mode": {
    "name": "ipython",
    "version": 3
   },
   "file_extension": ".py",
   "mimetype": "text/x-python",
   "name": "python",
   "nbconvert_exporter": "python",
   "pygments_lexer": "ipython3",
   "version": "3.8.10"
  }
 },
 "nbformat": 4,
 "nbformat_minor": 5
}
