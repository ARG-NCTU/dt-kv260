{
 "cells": [
  {
   "cell_type": "markdown",
   "id": "f336ae17",
   "metadata": {},
   "source": [
    "# Initial"
   ]
  },
  {
   "cell_type": "code",
   "execution_count": 95,
   "id": "a7b23e01",
   "metadata": {},
   "outputs": [
    {
     "name": "stdout",
     "output_type": "stream",
     "text": [
      "UART overlay done\n"
     ]
    }
   ],
   "source": [
    "from pynq_dpu import DpuOverlay\n",
    "overlay = DpuOverlay('dpu_uartlite.bit')\n",
    "\n",
    "from time import sleep, time\n",
    "\n",
    "RX_FIFO = 0x00\n",
    "TX_FIFO = 0x04\n",
    "\n",
    "#Status Reg\n",
    "STAT_REG = 0x08\n",
    "RX_VALID = 0\n",
    "RX_FULL = 1\n",
    "TX_EMPTY = 2\n",
    "TX_FULL = 3\n",
    "IS_INTR = 4\n",
    "OVERRUN_ERR = 5\n",
    "FRAME_ERR = 6\n",
    "PARITY_ERR =7\n",
    "\n",
    "#Ctrl Reg\n",
    "CTRL_REG = 0x0C\n",
    "RST_TX = 0\n",
    "RST_RX = 1\n",
    "INTR_EN = 4\n",
    "\n",
    "class UartLite:\n",
    "    def __init__(self, uart):\n",
    "        self.uart = uart\n",
    "        self.setupCtrlReg()\n",
    "\n",
    "    def getBit(self,num,pos):\n",
    "        return (num&1<<pos)>>pos\n",
    "\n",
    "    def setupCtrlReg(self):\n",
    "        # Reset FIFOs, disable interrupts\n",
    "        self.uart.write(CTRL_REG, 1<<RST_TX | 1<<RST_RX)\n",
    "        sleep(0.5)\n",
    "        self.uart.write(CTRL_REG, 0)\n",
    "        sleep(0.5)\n",
    "\n",
    "    def status(self):\n",
    "        \"\"\"Returns object that specifies current status of axi core\"\"\"\n",
    "        status = self.uart.read(STAT_REG)\n",
    "        return {'RX_VALID':self.getBit(status,RX_VALID),\n",
    "            'RX_FULL':self.getBit(status, RX_FULL),\n",
    "            'TX_EMPTY':self.getBit(status, TX_EMPTY),\n",
    "            'TX_FULL':self.getBit(status, TX_FULL),\n",
    "            'IS_INTR':self.getBit(status, IS_INTR),\n",
    "            'OVERRUN_ERR':self.getBit(status, OVERRUN_ERR),\n",
    "            'FRAME_ERR':self.getBit(status, FRAME_ERR),\n",
    "            'PARITY_ERR':self.getBit(status, PARITY_ERR)}\n",
    "\n",
    "    def read(self, count, timeout=10):\n",
    "        buf = \"\"\n",
    "        stop_time = time() + timeout\n",
    "        for i in range(count):\n",
    "            while (not (self.uart.read(STAT_REG) & 1<<RX_VALID)) and (time()<stop_time):\n",
    "                pass\n",
    "            if time() >= stop_time:\n",
    "                break\n",
    "            buf += chr(self.uart.read(RX_FIFO))\n",
    "        return buf\n",
    "\n",
    "    def write(self, buf, timeout=10):\n",
    "        stop_time = time() + timeout\n",
    "        wr_count = 0\n",
    "        for i in buf:\n",
    "            while (self.uart.read(STAT_REG) & 1<<TX_FULL) and (time()<stop_time):\n",
    "                pass\n",
    "            if time() > stop_time:\n",
    "                break\n",
    "            self.uart.write(TX_FIFO, ord(i))\n",
    "            wr_count += 1\n",
    "        return wr_count   \n",
    "\n",
    "    def readline(self):\n",
    "        ret = \"\"\n",
    "        buf = self.read(1)\n",
    "        if len(buf) == 0:\n",
    "            return \"\"\n",
    "        while buf != '\\n':\n",
    "            ret += buf\n",
    "            buf = self.read(1)\n",
    "        return ret\n",
    "    \n",
    "uart = UartLite(overlay.axi_uartlite_0)\n",
    "\n",
    "print(\"UART overlay done\")"
   ]
  },
  {
   "cell_type": "markdown",
   "id": "e982d934",
   "metadata": {},
   "source": [
    "# UART package example\n",
    "### right back 255, left forward 255"
   ]
  },
  {
   "cell_type": "code",
   "execution_count": 34,
   "id": "0cfce792",
   "metadata": {},
   "outputs": [
    {
     "data": {
      "text/plain": [
       "9"
      ]
     },
     "execution_count": 34,
     "metadata": {},
     "output_type": "execute_result"
    }
   ],
   "source": [
    "uart.write(\"02551255\\n\")"
   ]
  },
  {
   "cell_type": "markdown",
   "id": "6fe27aac",
   "metadata": {},
   "source": [
    "### right back 127, left back 127"
   ]
  },
  {
   "cell_type": "code",
   "execution_count": 96,
   "id": "e2d382ec",
   "metadata": {},
   "outputs": [
    {
     "data": {
      "text/plain": [
       "9"
      ]
     },
     "execution_count": 96,
     "metadata": {},
     "output_type": "execute_result"
    }
   ],
   "source": [
    "uart.write(\"01270127\\n\")"
   ]
  },
  {
   "cell_type": "markdown",
   "id": "b8bbad20",
   "metadata": {},
   "source": [
    "### right forward 0, left forward 0 (stop)"
   ]
  },
  {
   "cell_type": "code",
   "execution_count": 97,
   "id": "0399eafa",
   "metadata": {},
   "outputs": [
    {
     "data": {
      "text/plain": [
       "9"
      ]
     },
     "execution_count": 97,
     "metadata": {},
     "output_type": "execute_result"
    }
   ],
   "source": [
    "uart.write(\"10001000\\n\")"
   ]
  },
  {
   "cell_type": "markdown",
   "id": "da176c75",
   "metadata": {},
   "source": [
    "# Use Twist to control"
   ]
  },
  {
   "cell_type": "code",
   "execution_count": 98,
   "id": "87239c33",
   "metadata": {},
   "outputs": [],
   "source": [
    "def cmd_vel_control(linear_x, angular_z):\n",
    "    WHEEL_DIST = 5;\n",
    "    speed_wish_right = (angular_z * WHEEL_DIST)/2 + linear_x\n",
    "    speed_wish_left = linear_x * 2-speed_wish_right\n",
    "    \n",
    "    speed_wish_right = int(255*speed_wish_right)\n",
    "    speed_wish_left = int(255*speed_wish_left)\n",
    "    if speed_wish_right > 255: speed_wish_right = 255\n",
    "    if speed_wish_right < -255: speed_wish_right = -255\n",
    "    if speed_wish_left > 255: speed_wish_left = 255\n",
    "    if speed_wish_left < -255: speed_wish_left = -255\n",
    "    print(\"speed_wish_right, speed_wish_left= \",speed_wish_right, \",\",speed_wish_left)\n",
    "    \n",
    "    \n",
    "    pkg=\"1\" if speed_wish_right>=0 else \"0\"\n",
    "    speed_wish_right = abs(speed_wish_right)\n",
    "    pkg += str(speed_wish_right//100)\n",
    "    pkg += str((speed_wish_right%100)//10)\n",
    "    pkg += str(speed_wish_right%10)\n",
    "    \n",
    "    if speed_wish_left>=0: pkg += \"1\"\n",
    "    else : pkg += \"0\"\n",
    "    speed_wish_left = abs(speed_wish_left)\n",
    "    pkg += str(speed_wish_left//100)\n",
    "    pkg += str((speed_wish_left%100)//10)\n",
    "    pkg += str(speed_wish_left%10)\n",
    "    pkg += \"\\n\"\n",
    "    \n",
    "    print(\"uart pkg= \", pkg)\n",
    "    \n",
    "    uart.write(pkg)"
   ]
  },
  {
   "cell_type": "code",
   "execution_count": 102,
   "id": "a5ca96dc",
   "metadata": {},
   "outputs": [
    {
     "name": "stdout",
     "output_type": "stream",
     "text": [
      "speed_wish_right, speed_wish_left=  0 , 0\n",
      "uart pkg=  10001000\n",
      "\n"
     ]
    }
   ],
   "source": [
    "cmd_vel_control(0, 0)"
   ]
  },
  {
   "cell_type": "code",
   "execution_count": 100,
   "id": "58deec9f",
   "metadata": {},
   "outputs": [
    {
     "name": "stdout",
     "output_type": "stream",
     "text": [
      "speed_wish_right, speed_wish_left=  127 , 127\n",
      "uart pkg=  11271127\n",
      "\n"
     ]
    }
   ],
   "source": [
    "cmd_vel_control(0.5, 0)"
   ]
  },
  {
   "cell_type": "code",
   "execution_count": 101,
   "id": "8d44a5c4",
   "metadata": {},
   "outputs": [
    {
     "name": "stdout",
     "output_type": "stream",
     "text": [
      "speed_wish_right, speed_wish_left=  -255 , 255\n",
      "uart pkg=  02551255\n",
      "\n"
     ]
    }
   ],
   "source": [
    "cmd_vel_control(0, -0.5)"
   ]
  },
  {
   "cell_type": "code",
   "execution_count": null,
   "id": "8c982829",
   "metadata": {},
   "outputs": [],
   "source": []
  }
 ],
 "metadata": {
  "kernelspec": {
   "display_name": "Python 3",
   "language": "python",
   "name": "python3"
  },
  "language_info": {
   "codemirror_mode": {
    "name": "ipython",
    "version": 3
   },
   "file_extension": ".py",
   "mimetype": "text/x-python",
   "name": "python",
   "nbconvert_exporter": "python",
   "pygments_lexer": "ipython3",
   "version": "3.8.10"
  }
 },
 "nbformat": 4,
 "nbformat_minor": 5
}
